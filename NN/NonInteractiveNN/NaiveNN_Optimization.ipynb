{
 "cells": [
  {
   "cell_type": "code",
   "execution_count": 3,
   "metadata": {},
   "outputs": [
    {
     "ename": "ModuleNotFoundError",
     "evalue": "No module named 'numba'",
     "output_type": "error",
     "traceback": [
      "\u001b[1;31m---------------------------------------------------------------------------\u001b[0m",
      "\u001b[1;31mModuleNotFoundError\u001b[0m                       Traceback (most recent call last)",
      "Cell \u001b[1;32mIn[3], line 5\u001b[0m\n\u001b[0;32m      2\u001b[0m \u001b[38;5;28;01mimport\u001b[39;00m \u001b[38;5;21;01mnumpy\u001b[39;00m \u001b[38;5;28;01mas\u001b[39;00m \u001b[38;5;21;01mnp\u001b[39;00m\n\u001b[0;32m      3\u001b[0m \u001b[38;5;28;01mimport\u001b[39;00m \u001b[38;5;21;01mmatplotlib\u001b[39;00m\u001b[38;5;21;01m.\u001b[39;00m\u001b[38;5;21;01mpyplot\u001b[39;00m \u001b[38;5;28;01mas\u001b[39;00m \u001b[38;5;21;01mplt\u001b[39;00m\n\u001b[1;32m----> 5\u001b[0m \u001b[38;5;28;01mfrom\u001b[39;00m \u001b[38;5;21;01mmodule\u001b[39;00m\u001b[38;5;21;01m.\u001b[39;00m\u001b[38;5;21;01mNaiveNN\u001b[39;00m \u001b[38;5;28;01mimport\u001b[39;00m \u001b[38;5;241m*\u001b[39m\n",
      "File \u001b[1;32mc:\\Users\\annar\\OneDrive\\Desktop\\FYS4411\\FYS4411-Project2\\NN\\NonInteractiveNN\\module\\NaiveNN.py:2\u001b[0m\n\u001b[0;32m      1\u001b[0m \u001b[38;5;66;03m# import njit from numba\u001b[39;00m\n\u001b[1;32m----> 2\u001b[0m \u001b[38;5;28;01mfrom\u001b[39;00m \u001b[38;5;21;01mnumba\u001b[39;00m \u001b[38;5;28;01mimport\u001b[39;00m njit\n\u001b[0;32m      3\u001b[0m \u001b[38;5;66;03m# import np\u001b[39;00m\n\u001b[0;32m      4\u001b[0m \u001b[38;5;28;01mimport\u001b[39;00m \u001b[38;5;21;01mnumpy\u001b[39;00m \u001b[38;5;28;01mas\u001b[39;00m \u001b[38;5;21;01mnp\u001b[39;00m\n",
      "\u001b[1;31mModuleNotFoundError\u001b[0m: No module named 'numba'"
     ]
    }
   ],
   "source": [
    "# import all function from module.NaiveNN\n",
    "import numpy as np\n",
    "import matplotlib.pyplot as plt\n",
    "\n",
    "from module.NaiveNN import *"
   ]
  },
  {
   "cell_type": "markdown",
   "metadata": {},
   "source": [
    "# Optimization example\n",
    "Non iteractive case"
   ]
  },
  {
   "cell_type": "code",
   "execution_count": 2,
   "metadata": {},
   "outputs": [
    {
     "ename": "NameError",
     "evalue": "name 'init_params_guess' is not defined",
     "output_type": "error",
     "traceback": [
      "\u001b[1;31m---------------------------------------------------------------------------\u001b[0m",
      "\u001b[1;31mNameError\u001b[0m                                 Traceback (most recent call last)",
      "Cell \u001b[1;32mIn[2], line 8\u001b[0m\n\u001b[0;32m      5\u001b[0m \u001b[38;5;66;03m# define numnber of hidden lyer\u001b[39;00m\n\u001b[0;32m      6\u001b[0m H \u001b[38;5;241m=\u001b[39m \u001b[38;5;241m2\u001b[39m\n\u001b[1;32m----> 8\u001b[0m params \u001b[38;5;241m=\u001b[39m \u001b[43minit_params_guess\u001b[49m(N, D, H,\n\u001b[0;32m      9\u001b[0m                            alpha\u001b[38;5;241m=\u001b[39m\u001b[38;5;241m-\u001b[39m\u001b[38;5;241m0.7\u001b[39m, epsilon\u001b[38;5;241m=\u001b[39m\u001b[38;5;241m0.1\u001b[39m, gamma\u001b[38;5;241m=\u001b[39m\u001b[38;5;241m0.1\u001b[39m)\n\u001b[0;32m     11\u001b[0m \u001b[38;5;66;03m# optimize\u001b[39;00m\n\u001b[0;32m     12\u001b[0m opt_params \u001b[38;5;241m=\u001b[39m optimization(nn,params, N, D, H, nn_grad_params,\n\u001b[0;32m     13\u001b[0m                           local_kinetic_energy, local_potential_energy, \n\u001b[0;32m     14\u001b[0m                           optimization_steps\u001b[38;5;241m=\u001b[39m\u001b[38;5;241m10\u001b[39m, batch_size\u001b[38;5;241m=\u001b[39m\u001b[38;5;241m500\u001b[39m, lr\u001b[38;5;241m=\u001b[39m\u001b[38;5;241m0.1\u001b[39m)\n",
      "\u001b[1;31mNameError\u001b[0m: name 'init_params_guess' is not defined"
     ]
    }
   ],
   "source": [
    "# define the N, D of the system\n",
    "N = 5\n",
    "D = 3\n",
    "\n",
    "# define numnber of hidden lyer\n",
    "H = 2\n",
    "\n",
    "params = init_params_guess(N, D, H,\n",
    "                           alpha=-0.7, epsilon=0.1, gamma=0.1)\n",
    "\n",
    "# optimize\n",
    "opt_params = optimization(nn,params, N, D, H, nn_grad_params,\n",
    "                          local_kinetic_energy, local_potential_energy, \n",
    "                          optimization_steps=10, batch_size=500, lr=0.1)"
   ]
  },
  {
   "cell_type": "code",
   "execution_count": 4,
   "metadata": {},
   "outputs": [
    {
     "data": {
      "text/plain": [
       "DictType[unicode_type,array(float64, 2d, A)]<iv=None>({W0: [[-0.56514483 -0.60973047]], W1: [[0.1779575 ]\n",
       " [0.03908026]], b1: [[0.09767624]\n",
       " [0.22411587]], W2: [[ 0.18844468 -0.09735319]], b2: [[0.09493949]], gamma: [[0.10272075]]})"
      ]
     },
     "execution_count": 4,
     "metadata": {},
     "output_type": "execute_result"
    }
   ],
   "source": [
    "opt_params"
   ]
  },
  {
   "cell_type": "code",
   "execution_count": 5,
   "metadata": {},
   "outputs": [
    {
     "name": "stdout",
     "output_type": "stream",
     "text": [
      "The mean energy is:  [[1.01679923]]\n",
      "The analytical energy is:  1.0\n"
     ]
    }
   ],
   "source": [
    "# get the mean energy with optimized params\n",
    "\n",
    "run_step = 10000\n",
    "chain = metropolis(N, D, nn, opt_params, run_step, 0.1)\n",
    "\n",
    "# get the energy\n",
    "energy=0\n",
    "for i in range(run_step):\n",
    "    energy += local_potential_energy(chain[i]) + local_kinetic_energy(chain[i], opt_params)\n",
    "energy /= run_step\n",
    "\n",
    "print(\"The mean energy is: \", energy)\n",
    "print(\"The analytical energy is: \", 0.5*N*D)"
   ]
  },
  {
   "cell_type": "code",
   "execution_count": null,
   "metadata": {},
   "outputs": [],
   "source": []
  }
 ],
 "metadata": {
  "kernelspec": {
   "display_name": "sci",
   "language": "python",
   "name": "python3"
  },
  "language_info": {
   "codemirror_mode": {
    "name": "ipython",
    "version": 3
   },
   "file_extension": ".py",
   "mimetype": "text/x-python",
   "name": "python",
   "nbconvert_exporter": "python",
   "pygments_lexer": "ipython3",
   "version": "3.11.6"
  }
 },
 "nbformat": 4,
 "nbformat_minor": 2
}
